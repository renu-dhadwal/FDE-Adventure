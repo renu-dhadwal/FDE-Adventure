{
 "cells": [
  {
   "cell_type": "markdown",
   "id": "a7af322c",
   "metadata": {},
   "source": [
    "# Palace of Eternal Exponentials — Interactive Notebook\n",
    "\n",
    "This notebook contains an interactive Plotly + ipywidgets demo of the Mittag–Leffler function $E_\\alpha(-t^\\alpha)$.\n",
    "\n",
    "**Dependencies:** `mpmath`, `plotly`, `ipywidgets`. Install with\n",
    "\n",
    "```bash\n",
    "pip install mpmath plotly ipywidgets\n",
    "```\n"
   ]
  },
  {
   "cell_type": "code",
   "execution_count": null,
   "id": "b6288788",
   "metadata": {},
   "outputs": [],
   "source": [
    "import numpy as np\n",
    "import mpmath as mp\n",
    "import plotly.graph_objects as go\n",
    "import ipywidgets as widgets\n",
    "from IPython.display import display, HTML\n",
    "\n",
    "t = np.linspace(0, 8, 300)\n",
    "\n",
    "def ml_array(alpha):\n",
    "    return np.array([mp.mittag_leffler(alpha, 1, - (ti**alpha)) for ti in t], dtype=float)\n",
    "\n",
    "alpha0 = 0.8\n",
    "y0 = ml_array(alpha0)\n",
    "\n",
    "fig = go.FigureWidget()\n",
    "fig.add_scatter(x=t, y=y0, mode='lines', name=f\"α={alpha0:.2f}\")\n",
    "fig.update_layout(title=\"E_α(-t^α) for varying α\", xaxis_title=\"t\", yaxis_title=\"E_α(-t^α)\")\n",
    "\n",
    "slider = widgets.FloatSlider(value=alpha0, min=0.1, max=1.0, step=0.01, description='α:', layout=widgets.Layout(width='60%'))\n",
    "\n",
    "def on_value_change(change):\n",
    "    alpha = change['new']\n",
    "    y = ml_array(alpha)\n",
    "    with fig.batch_update():\n",
    "        fig.data[0].y = y\n",
    "        fig.data[0].name = f\"α={alpha:.2f}\"\n",
    "\n",
    "slider.observe(on_value_change, names='value')\n",
    "\n",
    "display(HTML(\"<p><strong>Move the slider to change α.</strong></p>\"))\n",
    "display(slider)\n",
    "display(fig)"
   ]
  }
 ],
 "metadata": {},
 "nbformat": 4,
 "nbformat_minor": 5
}
